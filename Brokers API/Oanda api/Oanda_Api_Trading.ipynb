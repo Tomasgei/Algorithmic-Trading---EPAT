{
 "cells": [
  {
   "cell_type": "code",
   "execution_count": null,
   "metadata": {},
   "outputs": [],
   "source": []
  },
  {
   "cell_type": "code",
   "execution_count": 6,
   "metadata": {},
   "outputs": [],
   "source": [
    "import requests\n",
    "import pandas as pd\n",
    "import configparser  \n",
    "config = configparser.ConfigParser() \n",
    "config.read(\"C:/Users/tomas/Dropbox/Prop-Trading Business/oanda.cfg\") \n",
    "\n",
    "api_key         =  config[\"oanda\"]['api_key']\n",
    "oanda_api_url   =  config[\"oanda\"]['oanda_api_url']\n",
    "account_id      =  config[\"oanda\"]['account_id']\n",
    "headers         = {'Authorization': f'Bearer {api_key}'}\n",
    "my_url          = \"https://api-fxpractice.oanda.com\"\n",
    "session         = requests.Session()"
   ]
  },
  {
   "cell_type": "code",
   "execution_count": 28,
   "metadata": {},
   "outputs": [],
   "source": [
    "\n",
    "# My functions for api requests\n",
    "def GetAccount(headers,account_id):\n",
    "    \"\"\"\n",
    "    Function type: Api Data Request\n",
    "    Get the full details for a single Account that client has access to.\n",
    "    Full pending Order, open Trade and open Position representations are provided\n",
    "    \"\"\"\n",
    "    try:\n",
    "        response = session.get(f\"{my_url}/v3/accounts/\"+account_id,headers=headers)\n",
    "        data = response.json()\n",
    "        print(response.status_code)\n",
    "    except:\n",
    "        print(response.status_code)\n",
    "    return data\n",
    "\n",
    "def GetAccountSummary(headers,account_id):\n",
    "    \"\"\"\n",
    "    Function type: Api Data Request\n",
    "    Get a summary for single Account that client has access to.\n",
    "    \"\"\"\n",
    "    try:\n",
    "        response = session.get(f\"{my_url}/v3/accounts/\"+account_id+\"/summary\",headers=headers)\n",
    "        data = response.json()\n",
    "        print(response.status_code)\n",
    "    except:\n",
    "        print(response.status_code)\n",
    "    return data\n",
    "\n",
    "def GetAllInstruments(headers,account_id):\n",
    "    \"\"\"\n",
    "    Function type: Api Data Request\n",
    "    Get list of tradable instruments for the given Account.\n",
    "    \"\"\"\n",
    "    try:\n",
    "        response = session.get(f\"{my_url}/v3/accounts/\"+account_id+\"/instruments\",headers=headers)\n",
    "        data = response.json()\n",
    "        print(response.status_code)\n",
    "    except:\n",
    "        print(response.status_code)\n",
    "    return data\n",
    "\n",
    "def GetInstrument(headers,account_id,symbol):\n",
    "    \"\"\"\n",
    "    Function type: Api Data Request\n",
    "    Get list of tradable instruments for the given Account.\n",
    "    \"\"\"\n",
    "    try:\n",
    "        response = session.get(f\"{my_url}/v3/accounts/\"+account_id+\"/instruments\",headers=headers,params={\"instruments\":symbol})\n",
    "        data = response.json()\n",
    "        print(response.status_code)\n",
    "    except:\n",
    "        print(response.status_code)\n",
    "    return data\n",
    "\n",
    "def GetCandleData(headers,symbol,granularity=\"H1\",price=\"MBA\",count=10):\n",
    "    \"\"\"\n",
    "    Function type: Api Data Request\n",
    "    Fetch candlestick data for an instrument\n",
    "    \"\"\"\n",
    "    try:\n",
    "        response = session.get(f\"{my_url}/v3/instruments/\"+symbol+\"/candles\",headers=headers, params={\"granularity\":granularity,\"price\":price,\"count\":count })\n",
    "        data = response.json()\n",
    "        print(response.status_code)\n",
    "    except:\n",
    "        print(response.status_code)\n",
    "    return data\n",
    "\n",
    "def GetCandlesDataFrame(json_response):\n",
    "    \"\"\"\n",
    "    Function type: Data Manipulation\n",
    "    This funcion organize raw candelstick data aquired by function \"GetCandleData\" \n",
    "    to pandas DataFrame.\n",
    "    \"\"\"\n",
    "    prices = [\"mid\", \"bid\", \"ask\"]\n",
    "    ohlc = [\"o\",\"h\",\"l\",\"c\"]\n",
    "\n",
    "    candlestick_data = []\n",
    "    for candle in json_response[\"candles\"]:\n",
    "        if json_response[\"complete\"] == False:\n",
    "            continue\n",
    "        new_dict = {}\n",
    "        new_dict[\"time\"] = json_response[\"time\"]\n",
    "        new_dict[\"volume\"] = json_response[\"volume\"]\n",
    "        for price in prices:\n",
    "            for i in ohlc:\n",
    "                new_dict[f\"{price}_{i}\"] = candle[price][i]\n",
    "                candlestick_data.append(new_dict)\n",
    "\n",
    "    return pd.DataFrame(candlestick_data)\n",
    "\n",
    "def SaveFile(candles_df, pair, granularity):\n",
    "    \"\"\"\n",
    "    Function type: Data Manipulation\n",
    "    This funcion save historical data to file for detailed analysis\n",
    "    \"\"\"\n",
    "    candles_df.to_csv(f\"historical_data/{pair}_{granularity}.csv\")"
   ]
  },
  {
   "cell_type": "code",
   "execution_count": 29,
   "metadata": {},
   "outputs": [],
   "source": [
    "def CreateData(headers ,symbol , granularity):\n",
    "    json_data = GetCandleData(headers, symbol ,granularity ,price=\"MBA\")\n",
    "\n",
    "    df = GetCandlesDataFrame(json_data)\n",
    "    print(f\"{symbol} downloaded {df.shape[0]} candles from {df.time.min()} to {df.time.max()}\")\n",
    "    SaveFile(df, symbol, granularity)\n",
    "    print(f\"Data for {symbol} was saved do file\")\n"
   ]
  },
  {
   "cell_type": "code",
   "execution_count": null,
   "metadata": {},
   "outputs": [],
   "source": []
  },
  {
   "cell_type": "code",
   "execution_count": 30,
   "metadata": {},
   "outputs": [
    {
     "name": "stdout",
     "output_type": "stream",
     "text": [
      "200\n",
      "200\n",
      "EUR_USD\n"
     ]
    },
    {
     "data": {
      "text/plain": [
       "dict_keys(['instruments', 'lastTransactionID'])"
      ]
     },
     "execution_count": 30,
     "metadata": {},
     "output_type": "execute_result"
    }
   ],
   "source": [
    "d = GetInstrument(headers,account_id,\"EUR_USD\")\n",
    "p = GetInstrument(headers,account_id,\"EUR_USD\")[\"instruments\"]\n",
    "print(p[0][\"name\"])\n",
    "d.keys()"
   ]
  },
  {
   "cell_type": "code",
   "execution_count": 31,
   "metadata": {},
   "outputs": [],
   "source": [
    "#GetAccount(ao.headers,ao.account_id)\n",
    "#GetCandleData(ao.headers,\"EUR_USD\",granularity=\"H1\",price=\"MBA\",count=10)"
   ]
  },
  {
   "cell_type": "code",
   "execution_count": 32,
   "metadata": {},
   "outputs": [
    {
     "name": "stdout",
     "output_type": "stream",
     "text": [
      "200\n"
     ]
    },
    {
     "data": {
      "text/plain": [
       "dict_keys(['name', 'type', 'displayName', 'pipLocation', 'displayPrecision', 'tradeUnitsPrecision', 'minimumTradeSize', 'maximumTrailingStopDistance', 'minimumTrailingStopDistance', 'maximumPositionSize', 'maximumOrderUnits', 'marginRate', 'guaranteedStopLossOrderMode', 'tags', 'financing'])"
      ]
     },
     "execution_count": 32,
     "metadata": {},
     "output_type": "execute_result"
    }
   ],
   "source": [
    "instruments = GetAllInstruments(headers,account_id)\n",
    "my_list = instruments[\"instruments\"]\n",
    "my_list[0].keys()"
   ]
  },
  {
   "cell_type": "code",
   "execution_count": 33,
   "metadata": {},
   "outputs": [],
   "source": [
    "# get data from instruments dictionary an save in new one in my list\n",
    "my_list = instruments[\"instruments\"]\n",
    "\n",
    "my_instruments = list()\n",
    "for i in my_list:\n",
    "    new = dict(\n",
    "        name = i[\"name\"],\n",
    "        type = i[\"type\"],\n",
    "        displayName = i[\"displayName\"],\n",
    "        marginRate = i[\"marginRate\"],\n",
    "        displayPrecision = i[\"displayPrecision\"],\n",
    "        minimumTradeSize = i[\"minimumTradeSize\"]\n",
    "    )\n",
    "    my_instruments.append(new)"
   ]
  },
  {
   "cell_type": "code",
   "execution_count": 34,
   "metadata": {},
   "outputs": [
    {
     "data": {
      "text/html": [
       "<div>\n",
       "<style scoped>\n",
       "    .dataframe tbody tr th:only-of-type {\n",
       "        vertical-align: middle;\n",
       "    }\n",
       "\n",
       "    .dataframe tbody tr th {\n",
       "        vertical-align: top;\n",
       "    }\n",
       "\n",
       "    .dataframe thead th {\n",
       "        text-align: right;\n",
       "    }\n",
       "</style>\n",
       "<table border=\"1\" class=\"dataframe\">\n",
       "  <thead>\n",
       "    <tr style=\"text-align: right;\">\n",
       "      <th></th>\n",
       "      <th>name</th>\n",
       "      <th>type</th>\n",
       "      <th>displayName</th>\n",
       "      <th>marginRate</th>\n",
       "      <th>displayPrecision</th>\n",
       "      <th>minimumTradeSize</th>\n",
       "    </tr>\n",
       "  </thead>\n",
       "  <tbody>\n",
       "    <tr>\n",
       "      <th>0</th>\n",
       "      <td>EUR_HUF</td>\n",
       "      <td>CURRENCY</td>\n",
       "      <td>EUR/HUF</td>\n",
       "      <td>0.05</td>\n",
       "      <td>3</td>\n",
       "      <td>1</td>\n",
       "    </tr>\n",
       "    <tr>\n",
       "      <th>1</th>\n",
       "      <td>FR40_EUR</td>\n",
       "      <td>CFD</td>\n",
       "      <td>France 40</td>\n",
       "      <td>0.05</td>\n",
       "      <td>1</td>\n",
       "      <td>0.1</td>\n",
       "    </tr>\n",
       "    <tr>\n",
       "      <th>2</th>\n",
       "      <td>EUR_DKK</td>\n",
       "      <td>CURRENCY</td>\n",
       "      <td>EUR/DKK</td>\n",
       "      <td>0.1</td>\n",
       "      <td>5</td>\n",
       "      <td>1</td>\n",
       "    </tr>\n",
       "    <tr>\n",
       "      <th>3</th>\n",
       "      <td>XAU_CHF</td>\n",
       "      <td>METAL</td>\n",
       "      <td>Gold/CHF</td>\n",
       "      <td>0.05</td>\n",
       "      <td>3</td>\n",
       "      <td>1</td>\n",
       "    </tr>\n",
       "    <tr>\n",
       "      <th>4</th>\n",
       "      <td>XPD_USD</td>\n",
       "      <td>CFD</td>\n",
       "      <td>Palladium</td>\n",
       "      <td>0.1</td>\n",
       "      <td>3</td>\n",
       "      <td>1</td>\n",
       "    </tr>\n",
       "    <tr>\n",
       "      <th>...</th>\n",
       "      <td>...</td>\n",
       "      <td>...</td>\n",
       "      <td>...</td>\n",
       "      <td>...</td>\n",
       "      <td>...</td>\n",
       "      <td>...</td>\n",
       "    </tr>\n",
       "    <tr>\n",
       "      <th>118</th>\n",
       "      <td>USD_PLN</td>\n",
       "      <td>CURRENCY</td>\n",
       "      <td>USD/PLN</td>\n",
       "      <td>0.05</td>\n",
       "      <td>5</td>\n",
       "      <td>1</td>\n",
       "    </tr>\n",
       "    <tr>\n",
       "      <th>119</th>\n",
       "      <td>AU200_AUD</td>\n",
       "      <td>CFD</td>\n",
       "      <td>Australia 200</td>\n",
       "      <td>0.05</td>\n",
       "      <td>1</td>\n",
       "      <td>0.1</td>\n",
       "    </tr>\n",
       "    <tr>\n",
       "      <th>120</th>\n",
       "      <td>CAD_HKD</td>\n",
       "      <td>CURRENCY</td>\n",
       "      <td>CAD/HKD</td>\n",
       "      <td>0.1</td>\n",
       "      <td>5</td>\n",
       "      <td>1</td>\n",
       "    </tr>\n",
       "    <tr>\n",
       "      <th>121</th>\n",
       "      <td>US30_USD</td>\n",
       "      <td>CFD</td>\n",
       "      <td>US Wall St 30</td>\n",
       "      <td>0.05</td>\n",
       "      <td>1</td>\n",
       "      <td>0.1</td>\n",
       "    </tr>\n",
       "    <tr>\n",
       "      <th>122</th>\n",
       "      <td>GBP_CAD</td>\n",
       "      <td>CURRENCY</td>\n",
       "      <td>GBP/CAD</td>\n",
       "      <td>0.0333</td>\n",
       "      <td>5</td>\n",
       "      <td>1</td>\n",
       "    </tr>\n",
       "  </tbody>\n",
       "</table>\n",
       "<p>123 rows × 6 columns</p>\n",
       "</div>"
      ],
      "text/plain": [
       "          name      type    displayName marginRate  displayPrecision  \\\n",
       "0      EUR_HUF  CURRENCY        EUR/HUF       0.05                 3   \n",
       "1     FR40_EUR       CFD      France 40       0.05                 1   \n",
       "2      EUR_DKK  CURRENCY        EUR/DKK        0.1                 5   \n",
       "3      XAU_CHF     METAL       Gold/CHF       0.05                 3   \n",
       "4      XPD_USD       CFD      Palladium        0.1                 3   \n",
       "..         ...       ...            ...        ...               ...   \n",
       "118    USD_PLN  CURRENCY        USD/PLN       0.05                 5   \n",
       "119  AU200_AUD       CFD  Australia 200       0.05                 1   \n",
       "120    CAD_HKD  CURRENCY        CAD/HKD        0.1                 5   \n",
       "121   US30_USD       CFD  US Wall St 30       0.05                 1   \n",
       "122    GBP_CAD  CURRENCY        GBP/CAD     0.0333                 5   \n",
       "\n",
       "    minimumTradeSize  \n",
       "0                  1  \n",
       "1                0.1  \n",
       "2                  1  \n",
       "3                  1  \n",
       "4                  1  \n",
       "..               ...  \n",
       "118                1  \n",
       "119              0.1  \n",
       "120                1  \n",
       "121              0.1  \n",
       "122                1  \n",
       "\n",
       "[123 rows x 6 columns]"
      ]
     },
     "execution_count": 34,
     "metadata": {},
     "output_type": "execute_result"
    }
   ],
   "source": [
    "# Save data to dataframe for later use\n",
    "my_instruments = pd.DataFrame(my_instruments)\n",
    "#my_instruments.to_csv(\"Oanda_instrument_list.csv\")\n",
    "my_instruments"
   ]
  },
  {
   "cell_type": "code",
   "execution_count": 35,
   "metadata": {},
   "outputs": [
    {
     "name": "stdout",
     "output_type": "stream",
     "text": [
      "200\n"
     ]
    },
    {
     "data": {
      "text/plain": [
       "{'instrument': 'EUR_USD',\n",
       " 'granularity': 'H1',\n",
       " 'candles': [{'complete': True,\n",
       "   'volume': 3957,\n",
       "   'time': '2021-11-02T07:00:00.000000000Z',\n",
       "   'bid': {'o': '1.16038', 'h': '1.16130', 'l': '1.16027', 'c': '1.16080'},\n",
       "   'mid': {'o': '1.16044', 'h': '1.16136', 'l': '1.16034', 'c': '1.16087'},\n",
       "   'ask': {'o': '1.16051', 'h': '1.16143', 'l': '1.16042', 'c': '1.16094'}},\n",
       "  {'complete': True,\n",
       "   'volume': 5115,\n",
       "   'time': '2021-11-02T08:00:00.000000000Z',\n",
       "   'bid': {'o': '1.16082', 'h': '1.16101', 'l': '1.15867', 'c': '1.15879'},\n",
       "   'mid': {'o': '1.16089', 'h': '1.16110', 'l': '1.15875', 'c': '1.15886'},\n",
       "   'ask': {'o': '1.16096', 'h': '1.16118', 'l': '1.15882', 'c': '1.15893'}},\n",
       "  {'complete': True,\n",
       "   'volume': 3942,\n",
       "   'time': '2021-11-02T09:00:00.000000000Z',\n",
       "   'bid': {'o': '1.15880', 'h': '1.15988', 'l': '1.15852', 'c': '1.15978'},\n",
       "   'mid': {'o': '1.15888', 'h': '1.15995', 'l': '1.15859', 'c': '1.15985'},\n",
       "   'ask': {'o': '1.15896', 'h': '1.16002', 'l': '1.15866', 'c': '1.15992'}},\n",
       "  {'complete': True,\n",
       "   'volume': 3693,\n",
       "   'time': '2021-11-02T10:00:00.000000000Z',\n",
       "   'bid': {'o': '1.15979', 'h': '1.16057', 'l': '1.15896', 'c': '1.16057'},\n",
       "   'mid': {'o': '1.15986', 'h': '1.16063', 'l': '1.15903', 'c': '1.16063'},\n",
       "   'ask': {'o': '1.15993', 'h': '1.16070', 'l': '1.15910', 'c': '1.16069'}},\n",
       "  {'complete': True,\n",
       "   'volume': 4083,\n",
       "   'time': '2021-11-02T11:00:00.000000000Z',\n",
       "   'bid': {'o': '1.16055', 'h': '1.16055', 'l': '1.15903', 'c': '1.16022'},\n",
       "   'mid': {'o': '1.16062', 'h': '1.16062', 'l': '1.15910', 'c': '1.16028'},\n",
       "   'ask': {'o': '1.16069', 'h': '1.16069', 'l': '1.15917', 'c': '1.16035'}},\n",
       "  {'complete': True,\n",
       "   'volume': 5416,\n",
       "   'time': '2021-11-02T12:00:00.000000000Z',\n",
       "   'bid': {'o': '1.16023', 'h': '1.16070', 'l': '1.15965', 'c': '1.16066'},\n",
       "   'mid': {'o': '1.16030', 'h': '1.16077', 'l': '1.15972', 'c': '1.16072'},\n",
       "   'ask': {'o': '1.16036', 'h': '1.16084', 'l': '1.15980', 'c': '1.16079'}},\n",
       "  {'complete': True,\n",
       "   'volume': 5416,\n",
       "   'time': '2021-11-02T13:00:00.000000000Z',\n",
       "   'bid': {'o': '1.16064', 'h': '1.16070', 'l': '1.15882', 'c': '1.15906'},\n",
       "   'mid': {'o': '1.16070', 'h': '1.16077', 'l': '1.15890', 'c': '1.15913'},\n",
       "   'ask': {'o': '1.16077', 'h': '1.16084', 'l': '1.15897', 'c': '1.15920'}},\n",
       "  {'complete': True,\n",
       "   'volume': 6480,\n",
       "   'time': '2021-11-02T14:00:00.000000000Z',\n",
       "   'bid': {'o': '1.15905', 'h': '1.15980', 'l': '1.15816', 'c': '1.15907'},\n",
       "   'mid': {'o': '1.15912', 'h': '1.15986', 'l': '1.15822', 'c': '1.15914'},\n",
       "   'ask': {'o': '1.15918', 'h': '1.15993', 'l': '1.15828', 'c': '1.15921'}},\n",
       "  {'complete': True,\n",
       "   'volume': 5735,\n",
       "   'time': '2021-11-02T15:00:00.000000000Z',\n",
       "   'bid': {'o': '1.15910', 'h': '1.15989', 'l': '1.15771', 'c': '1.15799'},\n",
       "   'mid': {'o': '1.15916', 'h': '1.15995', 'l': '1.15780', 'c': '1.15806'},\n",
       "   'ask': {'o': '1.15922', 'h': '1.16001', 'l': '1.15788', 'c': '1.15812'}},\n",
       "  {'complete': False,\n",
       "   'volume': 2368,\n",
       "   'time': '2021-11-02T16:00:00.000000000Z',\n",
       "   'bid': {'o': '1.15801', 'h': '1.15838', 'l': '1.15774', 'c': '1.15787'},\n",
       "   'mid': {'o': '1.15807', 'h': '1.15845', 'l': '1.15781', 'c': '1.15794'},\n",
       "   'ask': {'o': '1.15813', 'h': '1.15852', 'l': '1.15787', 'c': '1.15801'}}]}"
      ]
     },
     "execution_count": 35,
     "metadata": {},
     "output_type": "execute_result"
    }
   ],
   "source": [
    "# get candlestick data\n",
    "candle_data = GetCandleData(headers,\"EUR_USD\",granularity=\"H1\",price=\"MBA\",count=10)\n",
    "candle_data"
   ]
  },
  {
   "cell_type": "code",
   "execution_count": null,
   "metadata": {},
   "outputs": [],
   "source": []
  },
  {
   "cell_type": "code",
   "execution_count": 36,
   "metadata": {},
   "outputs": [],
   "source": [
    "# organize price data to data frame for analysis\n",
    "\n",
    "\n",
    "\n",
    "\n"
   ]
  },
  {
   "cell_type": "code",
   "execution_count": 37,
   "metadata": {},
   "outputs": [
    {
     "ename": "KeyError",
     "evalue": "'complete'",
     "output_type": "error",
     "traceback": [
      "\u001b[1;31m---------------------------------------------------------------------------\u001b[0m",
      "\u001b[1;31mKeyError\u001b[0m                                  Traceback (most recent call last)",
      "\u001b[1;32m~\\AppData\\Local\\Temp/ipykernel_47820/1723450599.py\u001b[0m in \u001b[0;36m<module>\u001b[1;34m\u001b[0m\n\u001b[1;32m----> 1\u001b[1;33m \u001b[0mGetCandlesDataFrame\u001b[0m\u001b[1;33m(\u001b[0m\u001b[0mcandle_data\u001b[0m\u001b[1;33m)\u001b[0m\u001b[1;33m\u001b[0m\u001b[1;33m\u001b[0m\u001b[0m\n\u001b[0m",
      "\u001b[1;32m~\\AppData\\Local\\Temp/ipykernel_47820/4066180993.py\u001b[0m in \u001b[0;36mGetCandlesDataFrame\u001b[1;34m(json_response)\u001b[0m\n\u001b[0;32m     77\u001b[0m     \u001b[0mcandlestick_data\u001b[0m \u001b[1;33m=\u001b[0m \u001b[1;33m[\u001b[0m\u001b[1;33m]\u001b[0m\u001b[1;33m\u001b[0m\u001b[1;33m\u001b[0m\u001b[0m\n\u001b[0;32m     78\u001b[0m     \u001b[1;32mfor\u001b[0m \u001b[0mcandle\u001b[0m \u001b[1;32min\u001b[0m \u001b[0mjson_response\u001b[0m\u001b[1;33m[\u001b[0m\u001b[1;34m\"candles\"\u001b[0m\u001b[1;33m]\u001b[0m\u001b[1;33m:\u001b[0m\u001b[1;33m\u001b[0m\u001b[1;33m\u001b[0m\u001b[0m\n\u001b[1;32m---> 79\u001b[1;33m         \u001b[1;32mif\u001b[0m \u001b[0mjson_response\u001b[0m\u001b[1;33m[\u001b[0m\u001b[1;34m\"complete\"\u001b[0m\u001b[1;33m]\u001b[0m \u001b[1;33m==\u001b[0m \u001b[1;32mFalse\u001b[0m\u001b[1;33m:\u001b[0m\u001b[1;33m\u001b[0m\u001b[1;33m\u001b[0m\u001b[0m\n\u001b[0m\u001b[0;32m     80\u001b[0m             \u001b[1;32mcontinue\u001b[0m\u001b[1;33m\u001b[0m\u001b[1;33m\u001b[0m\u001b[0m\n\u001b[0;32m     81\u001b[0m         \u001b[0mnew_dict\u001b[0m \u001b[1;33m=\u001b[0m \u001b[1;33m{\u001b[0m\u001b[1;33m}\u001b[0m\u001b[1;33m\u001b[0m\u001b[1;33m\u001b[0m\u001b[0m\n",
      "\u001b[1;31mKeyError\u001b[0m: 'complete'"
     ]
    }
   ],
   "source": [
    "GetCandlesDataFrame(candle_data)\n"
   ]
  },
  {
   "cell_type": "code",
   "execution_count": null,
   "metadata": {},
   "outputs": [],
   "source": []
  },
  {
   "cell_type": "code",
   "execution_count": null,
   "metadata": {},
   "outputs": [],
   "source": []
  },
  {
   "cell_type": "code",
   "execution_count": 38,
   "metadata": {},
   "outputs": [
    {
     "ename": "NameError",
     "evalue": "name 'candlestick_data' is not defined",
     "output_type": "error",
     "traceback": [
      "\u001b[1;31m---------------------------------------------------------------------------\u001b[0m",
      "\u001b[1;31mNameError\u001b[0m                                 Traceback (most recent call last)",
      "\u001b[1;32m~\\AppData\\Local\\Temp/ipykernel_47820/901352845.py\u001b[0m in \u001b[0;36m<module>\u001b[1;34m\u001b[0m\n\u001b[1;32m----> 1\u001b[1;33m \u001b[0mcandlestick_df\u001b[0m \u001b[1;33m=\u001b[0m\u001b[0mpd\u001b[0m\u001b[1;33m.\u001b[0m\u001b[0mDataFrame\u001b[0m\u001b[1;33m(\u001b[0m\u001b[0mcandlestick_data\u001b[0m\u001b[1;33m)\u001b[0m\u001b[1;33m\u001b[0m\u001b[1;33m\u001b[0m\u001b[0m\n\u001b[0m\u001b[0;32m      2\u001b[0m \u001b[0mcandlestick_df\u001b[0m\u001b[1;33m\u001b[0m\u001b[1;33m\u001b[0m\u001b[0m\n",
      "\u001b[1;31mNameError\u001b[0m: name 'candlestick_data' is not defined"
     ]
    }
   ],
   "source": [
    "candlestick_df =pd.DataFrame(candlestick_data)\n",
    "candlestick_df\n"
   ]
  },
  {
   "cell_type": "code",
   "execution_count": 26,
   "metadata": {},
   "outputs": [
    {
     "data": {
      "text/plain": [
       "array(['EUR_HUF', 'FR40_EUR', 'EUR_DKK', 'XAU_CHF', 'XPD_USD', 'BCO_USD',\n",
       "       'IN50_USD', 'NATGAS_USD', 'USD_MXN', 'GBP_USD', 'CAD_CHF',\n",
       "       'EUR_GBP', 'XAG_SGD', 'JP225_USD', 'XAG_CAD', 'CN50_USD',\n",
       "       'EU50_EUR', 'GBP_CHF', 'USD_THB', 'USD_ZAR', 'XAU_USD', 'XPT_USD',\n",
       "       'XAU_EUR', 'EUR_NOK', 'DE30_EUR', 'GBP_PLN', 'AUD_NZD', 'XAU_HKD',\n",
       "       'EUR_HKD', 'CHF_JPY', 'USD_SEK', 'GBP_SGD', 'GBP_HKD', 'EUR_NZD',\n",
       "       'XAG_AUD', 'WTICO_USD', 'XAG_NZD', 'SGD_CHF', 'AUD_SGD', 'EUR_JPY',\n",
       "       'TWIX_USD', 'USD_CHF', 'USD_TRY', 'GBP_JPY', 'EUR_CZK', 'BTC_USD',\n",
       "       'EUR_TRY', 'USD_JPY', 'GBP_ZAR', 'SGD_JPY', 'XAU_SGD', 'USD_CZK',\n",
       "       'XAU_JPY', 'XAG_JPY', 'ZAR_JPY', 'TRY_JPY', 'USD_DKK', 'EUR_PLN',\n",
       "       'SUGAR_USD', 'AUD_CAD', 'USD_HKD', 'CAD_SGD', 'US2000_USD',\n",
       "       'DE10YB_EUR', 'USB02Y_USD', 'USB05Y_USD', 'HK33_HKD', 'USB10Y_USD',\n",
       "       'GBP_NZD', 'USD_CNH', 'XAU_NZD', 'NZD_USD', 'XAG_GBP', 'XAG_EUR',\n",
       "       'CORN_USD', 'XAG_USD', 'UK100_GBP', 'NZD_HKD', 'USD_NOK',\n",
       "       'SPX500_USD', 'NZD_SGD', 'XAU_AUD', 'WHEAT_USD', 'XCU_USD',\n",
       "       'CAD_JPY', 'HKD_JPY', 'CHF_ZAR', 'USD_SGD', 'EUR_SEK', 'XAG_CHF',\n",
       "       'AUD_CHF', 'NZD_CHF', 'XAU_XAG', 'AUD_HKD', 'NAS100_USD',\n",
       "       'AUD_JPY', 'EUR_ZAR', 'XAU_CAD', 'EUR_AUD', 'NZD_JPY', 'XAG_HKD',\n",
       "       'XAU_GBP', 'CHF_HKD', 'USD_CAD', 'USD_INR', 'UK10YB_GBP',\n",
       "       'EUR_CHF', 'NL25_EUR', 'EUR_CAD', 'USD_HUF', 'USB30Y_USD',\n",
       "       'NZD_CAD', 'EUR_SGD', 'AUD_USD', 'SOYBN_USD', 'EUR_USD',\n",
       "       'SG30_SGD', 'GBP_AUD', 'USD_PLN', 'AU200_AUD', 'CAD_HKD',\n",
       "       'US30_USD', 'GBP_CAD'], dtype=object)"
      ]
     },
     "execution_count": 26,
     "metadata": {},
     "output_type": "execute_result"
    }
   ],
   "source": [
    "instr_df = pd.read_csv(\"Oanda_instrument_list.csv\")\n",
    "instr_df.name.unique()"
   ]
  },
  {
   "cell_type": "code",
   "execution_count": null,
   "metadata": {},
   "outputs": [],
   "source": []
  },
  {
   "cell_type": "code",
   "execution_count": 48,
   "metadata": {},
   "outputs": [
    {
     "name": "stdout",
     "output_type": "stream",
     "text": [
      "EUR_USD\n",
      "EUR_GBP\n",
      "EUR_JPY\n",
      "EUR_CHF\n",
      "EUR_NZD\n",
      "EUR_CAD\n",
      "USD_JPY\n",
      "USD_CHF\n",
      "USD_CAD\n",
      "GBP_USD\n",
      "GBP_JPY\n",
      "GBP_CHF\n",
      "GBP_NZD\n",
      "GBP_CAD\n",
      "CHF_JPY\n",
      "NZD_USD\n",
      "NZD_JPY\n",
      "NZD_CHF\n",
      "NZD_CAD\n",
      "CAD_JPY\n",
      "CAD_CHF\n"
     ]
    }
   ],
   "source": [
    "# Create list of tradables to download datasets \n",
    "currency = [\"EUR\",\"USD\",\"GBP\",\"JPY\",\"CHF\",\"NZD\",\"CAD\"]\n",
    "\n",
    "for p1 in currency:\n",
    "    for p2 in currency:\n",
    "        pair = f\"{p1}_{p2}\"\n",
    "        if pair in instr_df.name.unique():\n",
    "            print(pair)\n"
   ]
  },
  {
   "cell_type": "code",
   "execution_count": 127,
   "metadata": {},
   "outputs": [],
   "source": []
  },
  {
   "cell_type": "code",
   "execution_count": 129,
   "metadata": {},
   "outputs": [
    {
     "name": "stdout",
     "output_type": "stream",
     "text": [
      "haf haf\n"
     ]
    }
   ],
   "source": []
  },
  {
   "cell_type": "code",
   "execution_count": null,
   "metadata": {},
   "outputs": [],
   "source": [
    "\n"
   ]
  },
  {
   "cell_type": "code",
   "execution_count": null,
   "metadata": {},
   "outputs": [],
   "source": []
  },
  {
   "cell_type": "code",
   "execution_count": null,
   "metadata": {},
   "outputs": [],
   "source": []
  },
  {
   "cell_type": "code",
   "execution_count": null,
   "metadata": {},
   "outputs": [],
   "source": []
  },
  {
   "cell_type": "code",
   "execution_count": null,
   "metadata": {},
   "outputs": [],
   "source": [
    "\n"
   ]
  },
  {
   "cell_type": "code",
   "execution_count": null,
   "metadata": {},
   "outputs": [],
   "source": []
  },
  {
   "cell_type": "code",
   "execution_count": null,
   "metadata": {},
   "outputs": [],
   "source": []
  }
 ],
 "metadata": {
  "interpreter": {
   "hash": "c1e044b5f3417e01a72abc61f2d9f2cd7c105f4f8d7d2e84c8a448033e6ebc37"
  },
  "kernelspec": {
   "display_name": "Python 3.8.12 64-bit ('Python4Finance': conda)",
   "name": "python3"
  },
  "language_info": {
   "codemirror_mode": {
    "name": "ipython",
    "version": 3
   },
   "file_extension": ".py",
   "mimetype": "text/x-python",
   "name": "python",
   "nbconvert_exporter": "python",
   "pygments_lexer": "ipython3",
   "version": "3.8.12"
  },
  "orig_nbformat": 4
 },
 "nbformat": 4,
 "nbformat_minor": 2
}
