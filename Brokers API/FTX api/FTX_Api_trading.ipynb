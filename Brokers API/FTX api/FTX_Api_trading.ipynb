{
 "cells": [
  {
   "cell_type": "code",
   "execution_count": 1,
   "metadata": {},
   "outputs": [],
   "source": [
    "import time\n",
    "import hmac\n",
    "from requests import Request"
   ]
  },
  {
   "cell_type": "code",
   "execution_count": null,
   "metadata": {},
   "outputs": [],
   "source": [
    "# Authentication\n",
    "\n",
    "ts = int(time.time() * 1000)\n",
    "request = Request('GET', '<api_endpoint>')\n",
    "prepared = request.prepare()\n",
    "signature_payload = f'{ts}{prepared.method}{prepared.path_url}'.encode()\n",
    "signature = hmac.new('YOUR_API_SECRET'.encode(), signature_payload, 'sha256').hexdigest()\n",
    "\n",
    "request.headers['FTX-KEY'] = 'YOUR_API_KEY'\n",
    "request.headers['FTX-SIGN'] = signature\n",
    "request.headers['FTX-TS'] = str(ts)\n",
    "\n",
    "# Only include line if you want to access a subaccount. Remember to URI-encode the subaccount name if it contains special characters!\n",
    "# request.headers['FTX-SUBACCOUNT'] = 'my_subaccount_nickname'"
   ]
  }
 ],
 "metadata": {
  "interpreter": {
   "hash": "c1e044b5f3417e01a72abc61f2d9f2cd7c105f4f8d7d2e84c8a448033e6ebc37"
  },
  "kernelspec": {
   "display_name": "Python 3.8.12 64-bit ('Python4Finance': conda)",
   "name": "python3"
  },
  "language_info": {
   "codemirror_mode": {
    "name": "ipython",
    "version": 3
   },
   "file_extension": ".py",
   "mimetype": "text/x-python",
   "name": "python",
   "nbconvert_exporter": "python",
   "pygments_lexer": "ipython3",
   "version": "3.8.12"
  },
  "orig_nbformat": 4
 },
 "nbformat": 4,
 "nbformat_minor": 2
}
