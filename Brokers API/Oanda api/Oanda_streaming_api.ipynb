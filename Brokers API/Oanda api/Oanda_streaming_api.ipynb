{
 "cells": [
  {
   "cell_type": "code",
   "execution_count": 15,
   "metadata": {},
   "outputs": [],
   "source": [
    "import requests\n",
    "import pandas as pd\n",
    "import configparser  \n",
    "config = configparser.ConfigParser() \n",
    "config.read(\"C:/Users/tomas/Dropbox/Prop-Trading Business/oanda.cfg\")\n",
    "session = requests.Session()\n",
    "# Api creadentials\n",
    "api_url = \"https://stream-fxtrade.oanda.com\"\n",
    "api_key =  config[\"oanda\"]['api_key']\n",
    "account_id = config[\"oanda\"]['account_id']\n",
    "headers = {'Authorization': f'Bearer {api_key}'}"
   ]
  },
  {
   "cell_type": "code",
   "execution_count": 20,
   "metadata": {},
   "outputs": [],
   "source": [
    "def StreamLivePrices(Account_id,instruments):\n",
    "    \"\"\"\n",
    "    Function type: Api Data Request\n",
    "    Get list of tradable instruments for the given Account.\n",
    "    \"\"\"\n",
    "    try:\n",
    "        response = session.get(f\"{api_url}/v3/accounts/\"+Account_id+\"/pricing/stream\",headers=headers,params=instruments)\n",
    "        data = response.json()\n",
    "        print(response.status_code)\n",
    "    except:\n",
    "        print(response.status_code)\n",
    "    return data"
   ]
  },
  {
   "cell_type": "code",
   "execution_count": 21,
   "metadata": {},
   "outputs": [
    {
     "name": "stdout",
     "output_type": "stream",
     "text": [
      "401\n"
     ]
    },
    {
     "data": {
      "text/plain": [
       "{'errorMessage': 'Insufficient authorization to perform request.'}"
      ]
     },
     "execution_count": 21,
     "metadata": {},
     "output_type": "execute_result"
    }
   ],
   "source": [
    "StreamLivePrices(account_id,\"EUR_USD\")"
   ]
  },
  {
   "cell_type": "code",
   "execution_count": null,
   "metadata": {},
   "outputs": [],
   "source": []
  }
 ],
 "metadata": {
  "interpreter": {
   "hash": "c1e044b5f3417e01a72abc61f2d9f2cd7c105f4f8d7d2e84c8a448033e6ebc37"
  },
  "kernelspec": {
   "display_name": "Python 3.8.12 64-bit ('Python4Finance': conda)",
   "name": "python3"
  },
  "language_info": {
   "codemirror_mode": {
    "name": "ipython",
    "version": 3
   },
   "file_extension": ".py",
   "mimetype": "text/x-python",
   "name": "python",
   "nbconvert_exporter": "python",
   "pygments_lexer": "ipython3",
   "version": "3.8.12"
  },
  "orig_nbformat": 4
 },
 "nbformat": 4,
 "nbformat_minor": 2
}
